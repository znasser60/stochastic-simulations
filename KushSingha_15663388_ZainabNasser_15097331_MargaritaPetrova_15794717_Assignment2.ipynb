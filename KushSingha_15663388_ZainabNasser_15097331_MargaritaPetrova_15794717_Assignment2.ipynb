{
 "cells": [
  {
   "cell_type": "code",
   "execution_count": 2,
   "metadata": {},
   "outputs": [],
   "source": [
    "import numpy as np \n",
    "import simpy \n",
    "import random"
   ]
  },
  {
   "cell_type": "markdown",
   "metadata": {},
   "source": [
    "# [Problem 1: Deriving Average Wait Times for M/M/1 vs. M/M/C Queues]"
   ]
  },
  {
   "cell_type": "markdown",
   "metadata": {},
   "source": [
    "# Average Waiting Time for M/M/1 Queues \n",
    "\n",
    "$E(W)_{M/M/1} = \\frac{E(L)_{M/M/1}}{\\lambda}$ (Little's Law)\n",
    "\n",
    "$E(L)_{M/M/1} = \\Sigma{n*p_n}$\n",
    "\n",
    "$\\text{Since } p_n = (1-\\rho)*\\rho^n \\text{, then } E(L)_{M/M/1} = \\Sigma {n*(1-\\rho)*\\rho^n}$\n",
    "\n",
    "$\\text{Recall } \\Sigma \\rho^n = \\frac{1}{1-\\rho} \\text{by the Geometric Series}$\n",
    "\n",
    "$\\text{Then, we can differentiate both sides: } \\frac{d}{d\\rho} \\Sigma \\rho^n = \\frac{d}{d\\rho} \\frac{1}{1-\\rho} $\n",
    "\n",
    "$\\text{We get: } \\Sigma n*\\rho^{n-1} = \\frac{1}{(1-\\rho)^2}$ \n",
    "\n",
    "$\\text{Therefore, } \\Sigma n*p^n = \\frac{\\rho}{(1-\\rho)^2}$\n",
    "\n",
    "$\\text{And } (1-\\rho) * \\Sigma n*\\rho^n = \\frac{\\rho}{1-\\rho}$\n",
    "\n",
    "$\\text{E(L)}_{M/M/1} = \\frac{\\rho}{1-\\rho} = \\frac{\\frac{\\lambda}{\\mu}}{1-\\rho}$\n",
    "\n",
    "${E(W)}_{M/M/1} = \\frac{{E(L)}_{M/M/1}}{\\lambda} = \\frac{1}{\\mu*(1-\\rho)}$\n",
    "\n",
    "$\\text{------------------------------------------------------------------}$\n",
    "\n",
    "# Average Waiting Time for M/M/C Queues \n",
    "$E(W)_{M/M/C} = \\frac{E(L)_{M/M/C}}{\\lambda}$ (Little's Law)\n",
    "\n",
    "$E(L)_{M/M/C} = \\Sigma{n*p_{n+c}} = \\Sigma{n*p^n*p_c}$\n",
    "\n",
    "$ = p_c\\Sigma{n*p^n}$\n",
    "\n",
    "$ \\text{Following logic from previous section, } \\Sigma{n*p^n*p_c} = p_c * \\frac{\\rho}{(1-\\rho)^2}$\n",
    "\n",
    "$ = \\frac{p_c}{1-\\rho} * \\frac{\\rho}{1-\\rho}$\n",
    "\n",
    "$ \\text{Since } \\frac{p_c}{1-\\rho} = \\Pi_w \\text{ and } \\rho = \\frac{\\lambda}{n*\\mu} \\text{, then } E(L)_{M/M/C} = \\Pi_w * \\frac{\\lambda}{(1-\\rho)*n*\\mu}$\n",
    "\n",
    "$ \\text{Therefore, } E(W)_{M/M/C} = \\frac{\\Pi_w}{(1-\\rho)*n*\\mu}$\n",
    "\n",
    "$ \\Pi_w \\text{ is always <= 1 since it is the probability that a job has to wait. Therefore, } E(W)_{M/M/C} \\text{ will always be lower than } E(W)_{M/M/1} \\text{ by at least a factor of n.}$\n",
    "\n",
    "\n",
    "\n",
    "\n",
    "\n",
    "\n"
   ]
  },
  {
   "cell_type": "markdown",
   "metadata": {},
   "source": [
    "# [Problem 2: DES Program to Verify Results]"
   ]
  },
  {
   "cell_type": "code",
   "execution_count": null,
   "metadata": {},
   "outputs": [],
   "source": [
    "class MMCQueueSimulation: \n",
    "    def __init__(self,env,lambd,mu,n):\n",
    "        '''\n",
    "        Initializes object values in environment.\n",
    "\n",
    "        Parameters: \n",
    "        ----------\n",
    "        lambd: Arrival rate into the system\n",
    "        mu: Capacity of each server\n",
    "        n: Number of servers\n",
    "        '''\n",
    "\n",
    "        self.env = env\n",
    "        self.lambd = lambd\n",
    "        self.mu = mu\n",
    "        self.n = n\n",
    "        self.servers = simpy.Resource(env, capacity = n)\n",
    "        self.waiting_times = []\n",
    "\n",
    "    def one_service(self, name): \n",
    "        \n",
    "\n",
    "\n",
    "    def average_wait_time(self, env, lambd, mu, n):\n",
    "        '''\n",
    "        Calculates average wait time of a job. \n",
    "\n",
    "        Parameters: \n",
    "        ----------\n",
    "        lambd: Arrival rate into the system\n",
    "        mu: Capacity of each server\n",
    "        n: Number of servers\n",
    "\n",
    "        Returns: \n",
    "        -------\n",
    "        Average waiting time \n",
    "        '''\n",
    "\n",
    "\n",
    "env = simpy.Environment()\n",
    "\n",
    "\n",
    "\n",
    "    \n",
    "\n",
    "\n"
   ]
  }
 ],
 "metadata": {
  "kernelspec": {
   "display_name": "base",
   "language": "python",
   "name": "python3"
  },
  "language_info": {
   "codemirror_mode": {
    "name": "ipython",
    "version": 3
   },
   "file_extension": ".py",
   "mimetype": "text/x-python",
   "name": "python",
   "nbconvert_exporter": "python",
   "pygments_lexer": "ipython3",
   "version": "3.12.2"
  }
 },
 "nbformat": 4,
 "nbformat_minor": 2
}
