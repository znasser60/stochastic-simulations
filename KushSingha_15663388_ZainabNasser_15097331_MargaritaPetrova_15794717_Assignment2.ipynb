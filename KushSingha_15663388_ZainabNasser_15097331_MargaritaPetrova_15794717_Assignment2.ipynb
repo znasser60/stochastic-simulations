{
 "cells": [
  {
   "cell_type": "code",
   "execution_count": null,
   "metadata": {},
   "outputs": [],
   "source": [
    "import numpy as np\n",
    "import simpy\n",
    "import random\n",
    "import scipy as sp\n",
    "import matplotlib.pyplot as plt"
   ]
  },
  {
   "cell_type": "markdown",
   "metadata": {},
   "source": [
    "# [Problem 1: Deriving Average Wait Times for M/M/1 vs. M/M/C Queues]"
   ]
  },
  {
   "cell_type": "markdown",
   "metadata": {},
   "source": [
    "# Average Waiting Time for M/M/1 Queues \n",
    "\n",
    "$E(W)_{M/M/1} = \\frac{E(L)_{M/M/1}}{\\lambda}$ (Little's Law)\n",
    "\n",
    "$E(L)_{M/M/1} = \\Sigma{n*p_n}$\n",
    "\n",
    "$\\text{Since } p_n = (1-\\rho)*\\rho^n \\text{, then } E(L)_{M/M/1} = \\Sigma {n*(1-\\rho)*\\rho^n}$\n",
    "\n",
    "$\\text{Recall } \\Sigma \\rho^n = \\frac{1}{1-\\rho} \\text{ by the Geometric Series}$\n",
    "\n",
    "$\\text{Then, we can differentiate both sides: } \\frac{d}{d\\rho} \\Sigma \\rho^n = \\frac{d}{d\\rho} \\frac{1}{1-\\rho} $\n",
    "\n",
    "$\\text{We get: } \\Sigma n*\\rho^{n-1} = \\frac{1}{(1-\\rho)^2}$ \n",
    "\n",
    "$\\text{Therefore, } \\Sigma n*p^n = \\frac{\\rho}{(1-\\rho)^2}$\n",
    "\n",
    "$\\text{And } (1-\\rho) * \\Sigma n*\\rho^n = \\frac{\\rho}{1-\\rho}$\n",
    "\n",
    "$\\text{E(L)}_{M/M/1} = \\frac{\\rho}{1-\\rho} = \\frac{\\frac{\\lambda}{\\mu}}{1-\\rho}$\n",
    "\n",
    "${E(W)}_{M/M/1} = \\frac{{E(L)}_{M/M/1}}{\\lambda} = \\frac{1}{\\mu*(1-\\rho)}$\n",
    "\n",
    "$\\text{------------------------------------------------------------------}$\n",
    "\n",
    "# Average Waiting Time for M/M/C Queues \n",
    "$E(W)_{M/M/C} = \\frac{E(L)_{M/M/C}}{\\lambda}$ (Little's Law)\n",
    "\n",
    "$E(L)_{M/M/C} = \\Sigma{n*p_{n+c}} = \\Sigma{n*p^n*p_c}$\n",
    "\n",
    "$ = p_c\\Sigma{n*p^n}$\n",
    "\n",
    "$ \\text{Following logic from previous section, } \\Sigma{n*p^n*p_c} = p_c * \\frac{\\rho}{(1-\\rho)^2}$\n",
    "\n",
    "$ = \\frac{p_c}{1-\\rho} * \\frac{\\rho}{1-\\rho}$\n",
    "\n",
    "$ \\text{Since } \\frac{p_c}{1-\\rho} = \\Pi_w \\text{ and } \\rho = \\frac{\\lambda}{n*\\mu} \\text{, then } E(L)_{M/M/C} = \\Pi_w * \\frac{\\lambda}{(1-\\rho)*n*\\mu}$\n",
    "\n",
    "$ \\text{Therefore, } E(W)_{M/M/C} = \\frac{\\Pi_w}{(1-\\rho)*n*\\mu}$\n",
    "\n",
    "$ \\Pi_w \\text{ is always <= 1 since it is the probability that a job has to wait. Therefore, } E(W)_{M/M/C} \\text{ will always be lower than } E(W)_{M/M/1} \\text{ by at least a factor of n.}$\n",
    "\n",
    "\n",
    "\n",
    "\n",
    "\n",
    "\n"
   ]
  },
  {
   "cell_type": "markdown",
   "metadata": {},
   "source": [
    "# [Problem 2: DES Program to Verify Results]"
   ]
  },
  {
   "cell_type": "code",
   "execution_count": 6,
   "metadata": {},
   "outputs": [],
   "source": [
    "class MMCQueueSimulation:\n",
    "    def __init__(self, env, lambd, mu, n):\n",
    "        '''\n",
    "        Initializes object values in environment.\n",
    "        Parameters:\n",
    "        ----------\n",
    "        lambd: Arrival rate into the system (λ)\n",
    "        mu: Capacity of each server (μ)\n",
    "        n: Number of servers\n",
    "        '''\n",
    "        self.env = env\n",
    "        self.lambd = lambd\n",
    "        self.mu = mu\n",
    "        self.n = n\n",
    "        self.servers = simpy.Resource(env, capacity=n)\n",
    "        self.waiting_times = []\n",
    "    \n",
    "    def service_process(self):\n",
    "        '''\n",
    "        Process for each customer in the system. \n",
    "        '''\n",
    "        arrival_time = self.env.now\n",
    "\n",
    "        with self.servers.request() as request:\n",
    "            # Wait for request\n",
    "            yield request\n",
    "            \n",
    "            # Calculate and store waiting time after request has been approved\n",
    "            waiting_time = self.env.now - arrival_time\n",
    "            self.waiting_times.append(waiting_time)\n",
    "            \n",
    "            service_time = random.expovariate(1/self.mu)\n",
    "            \n",
    "            # Simulate service\n",
    "            yield self.env.timeout(service_time)\n",
    "    \n",
    "    def arrival_process(self):\n",
    "        '''\n",
    "        Generates customer arrivals with exponential times between arrivals.\n",
    "        '''\n",
    "        while True:\n",
    "            # Calculate time until arrival\n",
    "            yield self.env.timeout(random.expovariate(1/self.lambd))\n",
    "            \n",
    "            # Continue to service process after arrival\n",
    "            self.env.process(self.service_process())\n",
    "    \n",
    "    def simulation_run(self, simulation_time):\n",
    "        self.env.process(self.arrival_process())\n",
    "        self.env.run(until=simulation_time)\n",
    "        avg_waiting_time = np.mean(self.waiting_times) if self.waiting_times else 0\n",
    "        return avg_waiting_time\n"
   ]
  },
  {
   "cell_type": "code",
   "execution_count": 11,
   "metadata": {},
   "outputs": [
    {
     "name": "stdout",
     "output_type": "stream",
     "text": [
      "Run 1\n",
      "Number of servers (n): 1, Average Waiting Time:  800.86\n",
      "Run 2\n",
      "Number of servers (n): 1, Average Waiting Time:  382.44\n",
      "Run 3\n",
      "Number of servers (n): 1, Average Waiting Time:  642.35\n",
      "-\n",
      "Run 1\n",
      "Number of servers (n): 2, Average Waiting Time:  4.27\n",
      "Run 2\n",
      "Number of servers (n): 2, Average Waiting Time:  5.88\n",
      "Run 3\n",
      "Number of servers (n): 2, Average Waiting Time:  2.80\n",
      "-\n",
      "Run 1\n",
      "Number of servers (n): 4, Average Waiting Time:  0.13\n",
      "Run 2\n",
      "Number of servers (n): 4, Average Waiting Time:  0.30\n",
      "Run 3\n",
      "Number of servers (n): 4, Average Waiting Time:  0.18\n",
      "-\n"
     ]
    }
   ],
   "source": [
    "lambd = 9\n",
    "mu = 10\n",
    "simulation_time = 10000\n",
    "num_simulations = 3\n",
    "n_list = [1, 2, 4]  \n",
    "avg_wait_times = []\n",
    "var_wait_times = []\n",
    "\n",
    "for n in n_list:\n",
    "    for i in range(num_simulations):\n",
    "        env = simpy.Environment()\n",
    "        simulation = MMCQueueSimulation(env, lambd, mu, n)\n",
    "        avg_wait_time = simulation.simulation_run(simulation_time)\n",
    "        print(f'Run {i+1}')\n",
    "        print(f'Number of servers (n): {n}, Average Waiting Time: {avg_wait_time: .2f}')\n",
    "    print('-')"
   ]
  }
 ],
 "metadata": {
  "kernelspec": {
   "display_name": "base",
   "language": "python",
   "name": "python3"
  },
  "language_info": {
   "codemirror_mode": {
    "name": "ipython",
    "version": 3
   },
   "file_extension": ".py",
   "mimetype": "text/x-python",
   "name": "python",
   "nbconvert_exporter": "python",
   "pygments_lexer": "ipython3",
   "version": "3.12.2"
  }
 },
 "nbformat": 4,
 "nbformat_minor": 2
}
